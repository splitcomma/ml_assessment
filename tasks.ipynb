{
 "cells": [
  {
   "cell_type": "markdown",
   "metadata": {},
   "source": [
    "Tasks: Machine Learning and Statistics"
   ]
  },
  {
   "cell_type": "markdown",
   "metadata": {},
   "source": [
    "1. Square roots are difficult to calculate. In Python, you typically\n",
    "use the power operator (a double asterisk) or a package such\n",
    "as math. In this task,1 you should write a function sqrt(x) to \n",
    "approximate the square root of a floating point number x without\n",
    "using the power operator or a package.\n",
    "Rather, you should use the Newton’s method.2 Start with an 2 Square Roots via Newton’s Method.\n",
    "initial guess for the square root called z0. You then repeatedly\n",
    "improve it using the following formula, until the difference between some previous guess zi and the next zi+1\n",
    "is less than some\n",
    "threshold, say 0.01.\n",
    "zi+1 = zi −\n",
    "zi × zi − x\n",
    "2zi\n",
    "\n",
    "Newton's square root equation:  √ N ≈ ½(N/A + A)"
   ]
  },
  {
   "cell_type": "code",
   "execution_count": 5,
   "metadata": {},
   "outputs": [
    {
     "name": "stdout",
     "output_type": "stream",
     "text": [
      "The Square Root of 14.5 is 3.80789\n"
     ]
    }
   ],
   "source": [
    "def sqrt(num, iter=10):\n",
    "    a=float(num)\n",
    "    if num < 0:\n",
    "        raise ValueError(\"Input must be a non-negative number\")\n",
    "\n",
    "    for _ in range(iter):\n",
    "        num = 0.5 * (num + (a / num))\n",
    "\n",
    "    return num\n",
    "\n",
    "while True:\n",
    "    try:\n",
    "        userNumber = float(input(\"Please Enter a Number: \"))\n",
    "        break  # Break out of the loop if a valid number is entered\n",
    "    except ValueError:\n",
    "        print(\"Invalid input. Please enter a valid number.\")\n",
    "\n",
    "try:\n",
    "    result = sqrt(userNumber)\n",
    "    print(\"The Square Root of {:.1f} is {:.5f}\".format(userNumber, result))\n",
    "except ValueError as e:\n",
    "    print(e)\n"
   ]
  },
  {
   "cell_type": "markdown",
   "metadata": {},
   "source": [
    "# Used references:\n",
    "# https://www.geeksforgeeks.org/find-root-of-a-number-using-newtons-method/#:~:text=Let%20N%20be%20any%20number,to%20be%20N%20or%201.\n",
    "# https://www.programiz.com/python-programming/for-loop\n",
    "# https://www.school-for-champions.com/algebra/square_root_approx.htm#.YjcKgep_r4Z"
   ]
  },
  {
   "cell_type": "markdown",
   "metadata": {},
   "source": [
    "2. Consider the below contingency table based on a survey asking\n",
    "respondents whether they prefer coffee or tea and whether they\n",
    "prefer plain or chocolate biscuits. Use scipy.stats to perform\n",
    "a chi-squared test to see whether there is any evidence of an association between drink preference and biscuit preference in this\n",
    "instance.\n",
    "               | Chocolate | Plain\n",
    "---------------|-----------|------\n",
    "Drink Coffee   |    43     |  57\n",
    "      Tea      |    56     |  45\n"
   ]
  },
  {
   "cell_type": "code",
   "execution_count": null,
   "metadata": {},
   "outputs": [],
   "source": [
    "import numpy as np\n",
    "from scipy.stats import chi2_contingency\n",
    "\n",
    "# Given contingency table\n",
    "observed_data = np.array([[43, 57], [56, 45]])\n",
    "\n",
    "# Perform chi-squared test\n",
    "chi2_stat, p_value, dof, expected = chi2_contingency(observed_data)\n",
    "\n",
    "# Print the results\n",
    "print(\"Chi-squared statistic:\", chi2_stat)\n",
    "print(\"P-value:\", p_value)\n",
    "print(\"Degrees of freedom:\", dof)\n",
    "print(\"Expected frequencies table:\")\n",
    "print(expected)\n"
   ]
  },
  {
   "cell_type": "markdown",
   "metadata": {},
   "source": [
    "Chi-squared statistic: The larger the chi-squared statistic, the more evidence there is against the null hypothesis of independence. (Number between 0-1)\n",
    "\n",
    "P-value: If the p-value is less than a chosen significance level (common to default: 0.05), you can reject the null hypothesis. In this case, a small p-value suggests that there is evidence to reject the idea that drink preference and biscuit preference are independent.\n",
    "\n",
    "Degrees of freedom: This value is important for determining the critical value from the chi-squared distribution.\n",
    "Degrees of freedom=(number of rows−1)×(number of columns−1)\n",
    "In my case, with a 2x2 contingency table, the degrees of freedom would be:\n",
    "(2−1)×(2−1)=1\n",
    "\n",
    "Expected frequencies table: This table shows what would be expected if there were no association between the variables."
   ]
  },
  {
   "cell_type": "markdown",
   "metadata": {},
   "source": [
    "3. Perform a t-test on the famous penguins data set3 to investigate\n",
    "whether there is evidence of a significant difference in the body\n",
    "mass of male and female gentoo penguins.\n",
    "\n",
    "(mwaskom/seaborn-data: Data repository\n",
    "for seaborn examples. Aug. 30, 2023. url:\n",
    "https : / / github . com / mwaskom /\n",
    "seaborn - data / blob / master /\n",
    "penguins.csv)"
   ]
  },
  {
   "cell_type": "code",
   "execution_count": null,
   "metadata": {},
   "outputs": [],
   "source": [
    "import pandas as pd\n",
    "from scipy.stats import ttest_ind\n",
    "\n",
    "# Load the penguins dataset from seaborn\n",
    "url = \"https://raw.githubusercontent.com/mwaskom/seaborn-data/master/penguins.csv\"\n",
    "penguins_data = pd.read_csv(url)\n",
    "\n",
    "# Filter data for Gentoo penguins\n",
    "gentoo_data = penguins_data[penguins_data['species'] == 'Gentoo']\n",
    "\n",
    "# Drop rows with missing values in 'body_mass_g' or 'sex' columns\n",
    "gentoo_data = gentoo_data.dropna(subset=['body_mass_g', 'sex'])\n",
    "\n",
    "# Display information about the Gentoo penguins dataset\n",
    "print(\"Information about Gentoo penguins dataset:\")\n",
    "print(gentoo_data.info())\n",
    "\n",
    "# Display the first few rows of the Gentoo penguins dataset\n",
    "print(\"\\nFirst few rows of Gentoo penguins dataset:\")\n",
    "print(gentoo_data.head())\n",
    "\n",
    "# Separate data for male and female Gentoo penguins\n",
    "male_data = gentoo_data[gentoo_data['sex'] == 'MALE']\n",
    "female_data = gentoo_data[gentoo_data['sex'] == 'FEMALE']\n",
    "\n",
    "# Print information about male and female data\n",
    "print(\"Number of male data points:\", len(male_data))\n",
    "print(\"Number of female data points:\", len(female_data))\n",
    "\n",
    "# Print unique values in the 'body_mass_g' column for male and female Gentoo penguins\n",
    "print(\"Unique body mass values for Male Gentoo penguins:\", male_data['body_mass_g'].unique())\n",
    "print(\"Unique body mass values for Female Gentoo penguins:\", female_data['body_mass_g'].unique())\n",
    "\n",
    "# Perform independent two-sample t-test\n",
    "t_statistic, p_value = ttest_ind(male_data['body_mass_g'], female_data['body_mass_g'], equal_var=False)\n",
    "\n",
    "# Print the results\n",
    "print(\"\\nT-statistic:\", t_statistic)\n",
    "print(\"P-value:\", p_value)\n",
    "\n",
    "# Interpret the results\n",
    "if p_value < 0.05:\n",
    "    print(\"There is evidence of a significant difference in body mass between male and female Gentoo penguins.\")\n",
    "else:\n",
    "    print(\"There is no significant difference in body mass between male and female Gentoo penguins.\")\n"
   ]
  }
 ],
 "metadata": {
  "kernelspec": {
   "display_name": "base",
   "language": "python",
   "name": "python3"
  },
  "language_info": {
   "codemirror_mode": {
    "name": "ipython",
    "version": 3
   },
   "file_extension": ".py",
   "mimetype": "text/x-python",
   "name": "python",
   "nbconvert_exporter": "python",
   "pygments_lexer": "ipython3",
   "version": "3.9.7"
  }
 },
 "nbformat": 4,
 "nbformat_minor": 2
}
